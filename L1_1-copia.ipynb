{
  "nbformat": 4,
  "nbformat_minor": 0,
  "metadata": {
    "colab": {
      "provenance": [],
      "authorship_tag": "ABX9TyMyKnKpGUPnO+wi3I72vcNx",
      "include_colab_link": true
    },
    "kernelspec": {
      "name": "python3",
      "display_name": "Python 3"
    },
    "language_info": {
      "name": "python"
    }
  },
  "cells": [
    {
      "cell_type": "markdown",
      "metadata": {
        "id": "view-in-github",
        "colab_type": "text"
      },
      "source": [
        "<a href=\"https://colab.research.google.com/github/frannnnnnnnn/chartist-js/blob/master/L1_1-copia.ipynb\" target=\"_parent\"><img src=\"https://colab.research.google.com/assets/colab-badge.svg\" alt=\"Open In Colab\"/></a>"
      ]
    },
    {
      "cell_type": "markdown",
      "source": [
        "**LABORATORIO** **1** **-** **PARTE** **1**"
      ],
      "metadata": {
        "id": "fJ8xrvre3Ts8"
      }
    },
    {
      "cell_type": "markdown",
      "source": [
        "Importamos las librerias que se van a utilizar"
      ],
      "metadata": {
        "id": "EsheGefX3i0L"
      }
    },
    {
      "cell_type": "code",
      "source": [
        "import random\n",
        "from datetime import datetime"
      ],
      "metadata": {
        "id": "dLxcFK1n3pPw"
      },
      "execution_count": null,
      "outputs": []
    },
    {
      "cell_type": "markdown",
      "source": [
        "Definimos la clase Planata"
      ],
      "metadata": {
        "id": "8TbCzPW27uWE"
      }
    },
    {
      "cell_type": "code",
      "source": [
        "class Planta:\n",
        "      def __init__(self, fecha_plantacion, humedad_optima, humedad_actual):\n",
        "        self.fecha_plantacion = fecha_plantacion\n",
        "        self.humedad_optima = humedad_optima\n",
        "        self.humadad_actual = humedad_actual\n",
        "\n",
        "      def cosechar (self):\n",
        "        pass\n",
        "\n",
        "      def crecer (self): #aumenta bajo algún criterio el tamaño de la planta\n",
        "        pass"
      ],
      "metadata": {
        "id": "LbA4Xnoh8IoG"
      },
      "execution_count": null,
      "outputs": []
    },
    {
      "cell_type": "markdown",
      "source": [
        "Definimos las clases Lechuga, Tomate, Cilantro que heredan de Planta."
      ],
      "metadata": {
        "id": "PeUvhvnq8pVp"
      }
    },
    {
      "cell_type": "code",
      "source": [
        "#CLASE LECHUGA\n",
        "\n",
        "class Lechuga (Planta):\n",
        "  def __init__(self, fecha_plantacion, humedad_optima, humedad_actual, n_hojas, tamano):\n",
        "        self.fecha_plantacion = fecha_plantacion\n",
        "        self.humedad_optima = humedad_optima\n",
        "        self.humadad_actual = humedad_actual\n",
        "        self.n_hojas = n_hojas\n",
        "        self.tamano = tamano\n",
        "\n",
        "  def cosechar (self, hojas_cosechar):\n",
        "    if self.n_hojas >= hojas_cosechar:\n",
        "      self.n_hojas -= hojas_cosechar\n",
        "      self.actualizar_tamano()\n",
        "\n",
        "# Se define un metodo actualizar_tamano que me actualiza el tamano de la lechuga una vez que se ha cosechado\n",
        "\n",
        "  def actualizar_tamano():\n",
        "    if self.n_hojas > 40:\n",
        "      self.tamano = \"grande\"\n",
        "\n",
        "    elif 10 <= self.n_hojas >= 40:\n",
        "      self.tamano = \"mediana\"\n",
        "\n",
        "    elif self.n_hojas < 10:\n",
        "      self.tamano = \"chicha\"\n",
        "\n",
        "  def crecer (self):\n",
        "    pass\n"
      ],
      "metadata": {
        "id": "nDAFzCCh85hr"
      },
      "execution_count": null,
      "outputs": []
    },
    {
      "cell_type": "code",
      "source": [
        "#CLASE TOMATE\n",
        "\n",
        "class Tomate (Planta):\n",
        "  def __init__(self, fecha_plantacion, humedad_optima, humedad_actual, raza, n_tomates, acidez):\n",
        "        self.fecha_plantacion = fecha_plantacion\n",
        "        self.humedad_optima = humedad_optima\n",
        "        self.humadad_actual = humedad_actual\n",
        "        self.raza = raza\n",
        "        self.n_tomates = n_tomates\n",
        "        self.acidez = acidez\n",
        "\n",
        "  def cosechar (self, tomates_cosechar, hora_cosecha):\n",
        "    if self.raza == \"cherry\":\n",
        "      if hora_cosecha >= 12:   # considerando que las 12 indica el medio día\n",
        "        self.n_tomates -= tomates_cosechar\n",
        "      else:\n",
        "        print(\"No es posible cosechar tomates antes del medio día\")\n",
        "\n",
        "    else:\n",
        "      self.n_tomates -= tomates_cosechar\n",
        "\n",
        "\n",
        "  def crecer (self):\n",
        "    pass"
      ],
      "metadata": {
        "id": "MzLYfYt2AsxE"
      },
      "execution_count": null,
      "outputs": []
    },
    {
      "cell_type": "code",
      "source": [
        "#CLASE CILANTRO\n",
        "\n",
        "class Cilantro (Planta):\n",
        "  def __init__(self, fecha_plantacion, humedad_optima, humedad_actual, n_ramas):\n",
        "        self.fecha_plantacion = fecha_plantacion\n",
        "        self.humedad_optima = humedad_optima\n",
        "        self.humadad_actual = humedad_actual\n",
        "        self.n_ramas = n_ramas\n",
        "\n",
        "  def cosechar (self, ramas_cosechar):\n",
        "    self.n_ramas -= ramas_cosechar\n",
        "\n",
        "\n",
        "  def crecer (self):\n",
        "    pass"
      ],
      "metadata": {
        "id": "HU5rAfJeBTY3"
      },
      "execution_count": null,
      "outputs": []
    },
    {
      "cell_type": "markdown",
      "source": [
        "Para la planta definita por mi, escogere una planta de Frutillas que tendra las variables n_frutillas que guarda el numero de frutillas que hay en la planta. El método cosechar extrae el numero de frutillas que hay en la planta. al igual que las otras clases esta hereda de Planta."
      ],
      "metadata": {
        "id": "d7kN4W8LBl6Y"
      }
    },
    {
      "cell_type": "code",
      "source": [
        "#CLASE FRUTILLA\n",
        "\n",
        "class Frtutilla (Planta):\n",
        "  def __init__(self, fecha_plantacion, humedad_optima, humedad_actual, n_frutillas):\n",
        "        self.fecha_plantacion = fecha_plantacion\n",
        "        self.humedad_optima = humedad_optima\n",
        "        self.humadad_actual = humedad_actual\n",
        "        self.n_frutillas = n_frutillas\n",
        "\n",
        "  def cosechar (self, frutillas_cosechar):\n",
        "    self.n_frutillas -= frutillas_cosechar\n",
        "\n",
        "  def crecer (self):\n",
        "    pass"
      ],
      "metadata": {
        "id": "Cz3JtBkWCaNX"
      },
      "execution_count": null,
      "outputs": []
    },
    {
      "cell_type": "markdown",
      "source": [
        "Definimos la clase Sensor"
      ],
      "metadata": {
        "id": "-Z81MD9rDAV4"
      }
    },
    {
      "cell_type": "code",
      "source": [
        "# CLASE SENSOR\n",
        "\n",
        "class Sensor:\n",
        "  def __init__(self, ultima_medicion):\n",
        "    self.ultima_medicion = ultima_medicion\n",
        "\n",
        "  def medir():\n",
        "    pass\n",
        "\n"
      ],
      "metadata": {
        "id": "mEms-h9wDWqw"
      },
      "execution_count": null,
      "outputs": []
    },
    {
      "cell_type": "markdown",
      "source": [
        "Ahora definimos los tipos de sensores que heredaran de Sensor."
      ],
      "metadata": {
        "id": "CJBavAA_DxyW"
      }
    },
    {
      "cell_type": "code",
      "source": [
        "# HUMEDAD\n",
        "\n",
        "class Humedad(Sensor):\n",
        "  def __init__(self, ultima_medicion):\n",
        "    self.ultima_medicion = ultima_medicion\n",
        "\n",
        "  def medir():\n",
        "    pass"
      ],
      "metadata": {
        "id": "jLwjWVvBD3qD"
      },
      "execution_count": null,
      "outputs": []
    },
    {
      "cell_type": "code",
      "source": [
        "# TEMPERATURA\n",
        "\n",
        "class Temperatura(Sensor):\n",
        "  def __init__(self, ultima_medicion):\n",
        "    self.ultima_medicion = ultima_medicion\n",
        "\n",
        "  def medir():\n",
        "    pass"
      ],
      "metadata": {
        "id": "Cjh-UjvWEc_B"
      },
      "execution_count": null,
      "outputs": []
    },
    {
      "cell_type": "code",
      "source": [
        "# LUZ\n",
        "\n",
        "class Luz(Sensor):\n",
        "  def __init__(self, ultima_medicion):\n",
        "    self.ultima_medicion = ultima_medicion\n",
        "\n",
        "  def medir():\n",
        "    pass"
      ],
      "metadata": {
        "id": "B4X7QMh4Epid"
      },
      "execution_count": null,
      "outputs": []
    },
    {
      "cell_type": "markdown",
      "source": [
        "Definimos la clase Regador"
      ],
      "metadata": {
        "id": "UB8-QARFE0Im"
      }
    },
    {
      "cell_type": "code",
      "source": [
        "# REGADOR\n",
        "\n",
        "class Regador():\n",
        "  def __init__(self, agua_disponible):\n",
        "    pass\n",
        "\n",
        "  def regar():\n",
        "    pass"
      ],
      "metadata": {
        "id": "jGDtBVVCE2Ul"
      },
      "execution_count": null,
      "outputs": []
    },
    {
      "cell_type": "markdown",
      "source": [
        "Finalmente definimos la clase Invernadero"
      ],
      "metadata": {
        "id": "5lGPgvtXFmuL"
      }
    },
    {
      "cell_type": "code",
      "source": [
        "# INVERNADERO\n",
        "\n",
        "class Invernadero():\n",
        "  def __init__(self, luz_exterior, temperatura_exterior, agua_disponible):\n",
        "    self.plantas = {}\n",
        "    self.sensores = {}\n",
        "    self.regador = {}\n",
        "    self.luz_exterior = luz_exterior\n",
        "    self.temperatura_exterior = temperatura_exterior\n",
        "    self.agua_disponible = agua_disponible\n",
        "\n",
        "  def agregar_planta():\n",
        "    pass\n",
        "\n",
        "  def agregar_sensor():\n",
        "    pass\n",
        "\n",
        "  def agregar_regador():\n",
        "    pass\n",
        "\n"
      ],
      "metadata": {
        "id": "CNt9KtiCFp8h"
      },
      "execution_count": null,
      "outputs": []
    }
  ]
}